{
 "cells": [
  {
   "cell_type": "markdown",
   "id": "94f1fc53",
   "metadata": {},
   "source": [
    "# Chapter 1: Text Processing"
   ]
  },
  {
   "cell_type": "code",
   "execution_count": null,
   "id": "39607dcc",
   "metadata": {},
   "outputs": [
    {
     "name": "stderr",
     "output_type": "stream",
     "text": [
      "[nltk_data] Downloading package punkt_tab to\n",
      "[nltk_data]     /Users/ankitdesai/nltk_data...\n",
      "[nltk_data]   Unzipping tokenizers/punkt_tab.zip.\n"
     ]
    }
   ],
   "source": [
    "import nltk\n",
    "from nltk.tokenize import word_tokenize, sent_tokenize\n",
    "from nltk.corpus import stopwords\n",
    "from nltk.stem import PorterStemmer, WordNetLemmatizer\n",
    "\n",
    "# --- Download necessary NLTK data (run once) ---\n",
    "# These lines ensure you have the required data for tokenization,\n",
    "# stopwords, and lemmatization. If you've run them before, you can comment them out.\n",
    "# try:\n",
    "#     nltk.data.find('tokenizers/punkt')\n",
    "# except LookupError: # Changed to catch LookupError\n",
    "#     nltk.download('punkt') # Required for word_tokenize and sent_tokenize\n",
    "# try:\n",
    "#     nltk.data.find('corpora/stopwords')\n",
    "# except LookupError: # Changed to catch LookupError\n",
    "#     nltk.download('stopwords') # Required for stopwords list\n",
    "# try:\n",
    "#     nltk.data.find('corpora/wordnet')\n",
    "# except LookupError: # Changed to catch LookupError\n",
    "#     nltk.download('wordnet') # Required for WordNetLemmatizer\n",
    "# try:\n",
    "#     nltk.data.find('corpora/omw-1.4')\n",
    "# except LookupError: # Changed to catch LookupError\n",
    "#     nltk.download('omw-1.4') # Required for WordNetLemmatizer (Open Multilingual Wordnet)\n",
    "# try:\n",
    "#     nltk.data.find(\"tokenizers/punkt_tab\")\n",
    "# except LookupError:\n",
    "#     nltk.download('punkt_tab')"
   ]
  },
  {
   "cell_type": "code",
   "execution_count": 8,
   "id": "ad31ceab",
   "metadata": {},
   "outputs": [
    {
     "name": "stdout",
     "output_type": "stream",
     "text": [
      "\n",
      "--- Original Text ---\n",
      "\n",
      "Natural Language Processing (NLP) is a field of artificial intelligence that gives computers\n",
      "the ability to understand, process, and generate human language. It's a very exciting area\n",
      "with many applications, from chatbots to sentiment analysis. Processing text effectively\n",
      "is crucial for building robust NLP models. Running, ran, and runs are forms of the same verb.\n",
      "\n",
      "\n",
      "--- 1.1 Word Tokenization ---\n",
      "['Natural', 'Language', 'Processing', '(', 'NLP', ')', 'is', 'a', 'field', 'of', 'artificial', 'intelligence', 'that', 'gives', 'computers', 'the', 'ability', 'to', 'understand', ','] ... (showing first 20 words)\n",
      "\n",
      "--- 1.2 Sentence Tokenization ---\n",
      "['\\nNatural Language Processing (NLP) is a field of artificial intelligence that gives computers\\nthe ability to understand, process, and generate human language.', \"It's a very exciting area\\nwith many applications, from chatbots to sentiment analysis.\", 'Processing text effectively\\nis crucial for building robust NLP models.', 'Running, ran, and runs are forms of the same verb.']\n",
      "\n"
     ]
    }
   ],
   "source": [
    "# --- Sample Text ---\n",
    "# We'll use this sample text to demonstrate various text processing steps.\n",
    "sample_text = \"\"\"\n",
    "Natural Language Processing (NLP) is a field of artificial intelligence that gives computers\n",
    "the ability to understand, process, and generate human language. It's a very exciting area\n",
    "with many applications, from chatbots to sentiment analysis. Processing text effectively\n",
    "is crucial for building robust NLP models. Running, ran, and runs are forms of the same verb.\n",
    "\"\"\"\n",
    "print(f\"\\n--- Original Text ---\\n{sample_text}\\n\")\n",
    "\n",
    "# --- 1. Tokenization ---\n",
    "# Tokenization is the process of breaking down a piece of text into smaller units,\n",
    "# called tokens. These can be words, phrases, or even sentences.\n",
    "\n",
    "# Word Tokenization: Breaking text into individual words.\n",
    "# word_tokenize() from nltk.tokenize is used for this.\n",
    "words = word_tokenize(sample_text)\n",
    "print(f\"--- 1.1 Word Tokenization ---\\n{words[:20]} ... (showing first 20 words)\\n\") # Displaying first 20 words\n",
    "\n",
    "# Sentence Tokenization: Breaking text into individual sentences.\n",
    "# sent_tokenize() from nltk.tokenize is used for this.\n",
    "sentences = sent_tokenize(sample_text)\n",
    "print(f\"--- 1.2 Sentence Tokenization ---\\n{sentences}\\n\")"
   ]
  },
  {
   "cell_type": "code",
   "execution_count": 9,
   "id": "df263ef6",
   "metadata": {},
   "outputs": [
    {
     "name": "stdout",
     "output_type": "stream",
     "text": [
      "--- 2. Stop Words Removal ---\n",
      "['Natural', 'Language', 'Processing', 'NLP', 'field', 'artificial', 'intelligence', 'gives', 'computers', 'ability', 'understand', 'process', 'generate', 'human', 'language', 'exciting', 'area', 'many', 'applications', 'chatbots'] ... (showing first 20 words)\n",
      "\n"
     ]
    }
   ],
   "source": [
    "# --- 2. Stop Words Removal ---\n",
    "# Stop words are common words (like \"the\", \"is\", \"a\", \"an\") that often carry\n",
    "# little meaning in the context of text analysis and can be removed to reduce noise.\n",
    "\n",
    "# Get English stop words.\n",
    "stop_words = set(stopwords.words('english'))\n",
    "\n",
    "# Filter out stop words from our tokenized words.\n",
    "filtered_words = [word for word in words if word.lower() not in stop_words and word.isalpha()]\n",
    "# .lower() converts word to lowercase for consistent comparison.\n",
    "# .isalpha() checks if the word consists only of alphabetic characters,\n",
    "# removing punctuation and numbers.\n",
    "print(f\"--- 2. Stop Words Removal ---\\n{filtered_words[:20]} ... (showing first 20 words)\\n\")"
   ]
  },
  {
   "cell_type": "code",
   "execution_count": 10,
   "id": "17309a14",
   "metadata": {},
   "outputs": [
    {
     "name": "stdout",
     "output_type": "stream",
     "text": [
      "--- 3. Stemming (Porter Stemmer) ---\n",
      "['natur', 'languag', 'process', 'nlp', 'field', 'artifici', 'intellig', 'give', 'comput', 'abil', 'understand', 'process', 'gener', 'human', 'languag', 'excit', 'area', 'mani', 'applic', 'chatbot'] ... (showing first 20 words)\n",
      "\n"
     ]
    }
   ],
   "source": [
    "# --- 3. Stemming ---\n",
    "# Stemming is the process of reducing inflected (or sometimes derived) words\n",
    "# to their word stem, base or root form. The stem is not necessarily a valid word.\n",
    "# Example: \"running\", \"runs\", \"ran\" -> \"run\"\n",
    "\n",
    "# Initialize the Porter Stemmer. This is a common stemming algorithm.\n",
    "porter = PorterStemmer()\n",
    "\n",
    "# Apply stemming to the filtered words.\n",
    "stemmed_words = [porter.stem(word) for word in filtered_words]\n",
    "print(f\"--- 3. Stemming (Porter Stemmer) ---\\n{stemmed_words[:20]} ... (showing first 20 words)\\n\")"
   ]
  },
  {
   "cell_type": "code",
   "execution_count": 11,
   "id": "196a8a06",
   "metadata": {},
   "outputs": [
    {
     "name": "stdout",
     "output_type": "stream",
     "text": [
      "--- 4. Lemmatization (WordNet Lemmatizer, pos='v') ---\n",
      "['Natural', 'Language', 'Processing', 'NLP', 'field', 'artificial', 'intelligence', 'give', 'computers', 'ability', 'understand', 'process', 'generate', 'human', 'language', 'excite', 'area', 'many', 'applications', 'chatbots'] ... (showing first 20 words)\n",
      "\n",
      "\n",
      "Chapter 1: Text Processing complete! 🎉\n",
      "You've learned the fundamental steps to clean and standardize text data for NLP.\n"
     ]
    }
   ],
   "source": [
    "# --- 4. Lemmatization ---\n",
    "# Lemmatization is the process of reducing words to their base or dictionary form,\n",
    "# known as a lemma. Unlike stemming, the lemma is always a valid word.\n",
    "# Example: \"running\", \"runs\", \"ran\" -> \"run\" (as a valid verb)\n",
    "# \"better\" -> \"good\"\n",
    "\n",
    "# Initialize the WordNet Lemmatizer. WordNet is a lexical database.\n",
    "lemmatizer = WordNetLemmatizer()\n",
    "\n",
    "# Apply lemmatization to the filtered words.\n",
    "# We often specify the part-of-speech (pos) for better accuracy.\n",
    "# 'v' stands for verb. If not specified, it defaults to 'n' (noun).\n",
    "lemmatized_words = [lemmatizer.lemmatize(word, pos='v') for word in filtered_words]\n",
    "print(f\"--- 4. Lemmatization (WordNet Lemmatizer, pos='v') ---\\n{lemmatized_words[:20]} ... (showing first 20 words)\\n\")\n",
    "\n",
    "print(\"\\nChapter 1: Text Processing complete! 🎉\")\n",
    "print(\"You've learned the fundamental steps to clean and standardize text data for NLP.\")"
   ]
  },
  {
   "cell_type": "markdown",
   "id": "50184c07",
   "metadata": {},
   "source": [
    "# Chapter 2: Sentiment analysis"
   ]
  },
  {
   "cell_type": "code",
   "execution_count": 14,
   "id": "ed63a5d9",
   "metadata": {},
   "outputs": [
    {
     "name": "stdout",
     "output_type": "stream",
     "text": [
      "Dataset loaded successfully from '../data/movie_reviews_full.csv'. 🎉\n"
     ]
    },
    {
     "data": {
      "text/html": [
       "<div>\n",
       "<style scoped>\n",
       "    .dataframe tbody tr th:only-of-type {\n",
       "        vertical-align: middle;\n",
       "    }\n",
       "\n",
       "    .dataframe tbody tr th {\n",
       "        vertical-align: top;\n",
       "    }\n",
       "\n",
       "    .dataframe thead th {\n",
       "        text-align: right;\n",
       "    }\n",
       "</style>\n",
       "<table border=\"1\" class=\"dataframe\">\n",
       "  <thead>\n",
       "    <tr style=\"text-align: right;\">\n",
       "      <th></th>\n",
       "      <th>text</th>\n",
       "      <th>sentiment</th>\n",
       "    </tr>\n",
       "  </thead>\n",
       "  <tbody>\n",
       "    <tr>\n",
       "      <th>0</th>\n",
       "      <td>the verdict : spine - chilling drama from horr...</td>\n",
       "      <td>pos</td>\n",
       "    </tr>\n",
       "    <tr>\n",
       "      <th>1</th>\n",
       "      <td>\" the 44 caliber killer has struck again . \" s...</td>\n",
       "      <td>neg</td>\n",
       "    </tr>\n",
       "    <tr>\n",
       "      <th>2</th>\n",
       "      <td>in the company of men made a splash at the sun...</td>\n",
       "      <td>pos</td>\n",
       "    </tr>\n",
       "    <tr>\n",
       "      <th>3</th>\n",
       "      <td>in the year 2029 , captain leo davidson ( mark...</td>\n",
       "      <td>neg</td>\n",
       "    </tr>\n",
       "    <tr>\n",
       "      <th>4</th>\n",
       "      <td>[ note that followups are directed to rec . ar...</td>\n",
       "      <td>pos</td>\n",
       "    </tr>\n",
       "  </tbody>\n",
       "</table>\n",
       "</div>"
      ],
      "text/plain": [
       "                                                text sentiment\n",
       "0  the verdict : spine - chilling drama from horr...       pos\n",
       "1  \" the 44 caliber killer has struck again . \" s...       neg\n",
       "2  in the company of men made a splash at the sun...       pos\n",
       "3  in the year 2029 , captain leo davidson ( mark...       neg\n",
       "4  [ note that followups are directed to rec . ar...       pos"
      ]
     },
     "execution_count": 14,
     "metadata": {},
     "output_type": "execute_result"
    }
   ],
   "source": [
    "import pandas as pd\n",
    "#  --- 1. Load Dataset from CSV into Pandas DataFrame ---\n",
    "input_filename = '../data/movie_reviews_full.csv'\n",
    "try:\n",
    "    df = pd.read_csv(input_filename)\n",
    "    print(f\"Dataset loaded successfully from '{input_filename}'. 🎉\")\n",
    "except FileNotFoundError:\n",
    "    print(f\"Error: '{input_filename}' not found. Please ensure the file is in the 'root/data/' directory.\")\n",
    "    print(\"You need to generate this file by running the 'Generate Full Movie Reviews CSV' script first.\")\n",
    "    exit()\n",
    "\n",
    "df.head()"
   ]
  },
  {
   "cell_type": "code",
   "execution_count": 15,
   "id": "d8e7fea9",
   "metadata": {},
   "outputs": [
    {
     "name": "stdout",
     "output_type": "stream",
     "text": [
      "\n",
      "DataFrame loaded with 2000 movie reviews.\n",
      "First 5 rows of the DataFrame:\n"
     ]
    },
    {
     "data": {
      "text/html": [
       "<div>\n",
       "<style scoped>\n",
       "    .dataframe tbody tr th:only-of-type {\n",
       "        vertical-align: middle;\n",
       "    }\n",
       "\n",
       "    .dataframe tbody tr th {\n",
       "        vertical-align: top;\n",
       "    }\n",
       "\n",
       "    .dataframe thead th {\n",
       "        text-align: right;\n",
       "    }\n",
       "</style>\n",
       "<table border=\"1\" class=\"dataframe\">\n",
       "  <thead>\n",
       "    <tr style=\"text-align: right;\">\n",
       "      <th></th>\n",
       "      <th>text</th>\n",
       "      <th>sentiment</th>\n",
       "    </tr>\n",
       "  </thead>\n",
       "  <tbody>\n",
       "    <tr>\n",
       "      <th>0</th>\n",
       "      <td>of circumcision , psychic wounds and the famil...</td>\n",
       "      <td>pos</td>\n",
       "    </tr>\n",
       "    <tr>\n",
       "      <th>1</th>\n",
       "      <td>one year has passed since the last time we saw...</td>\n",
       "      <td>pos</td>\n",
       "    </tr>\n",
       "    <tr>\n",
       "      <th>2</th>\n",
       "      <td>reading the cast and director for the new mobs...</td>\n",
       "      <td>neg</td>\n",
       "    </tr>\n",
       "    <tr>\n",
       "      <th>3</th>\n",
       "      <td>this is a stagy film adapted from roger rueff ...</td>\n",
       "      <td>pos</td>\n",
       "    </tr>\n",
       "    <tr>\n",
       "      <th>4</th>\n",
       "      <td>various films seen at the seattle film festiva...</td>\n",
       "      <td>neg</td>\n",
       "    </tr>\n",
       "  </tbody>\n",
       "</table>\n",
       "</div>"
      ],
      "text/plain": [
       "                                                text sentiment\n",
       "0  of circumcision , psychic wounds and the famil...       pos\n",
       "1  one year has passed since the last time we saw...       pos\n",
       "2  reading the cast and director for the new mobs...       neg\n",
       "3  this is a stagy film adapted from roger rueff ...       pos\n",
       "4  various films seen at the seattle film festiva...       neg"
      ]
     },
     "execution_count": 15,
     "metadata": {},
     "output_type": "execute_result"
    }
   ],
   "source": [
    "# Shuffle the DataFrame rows\n",
    "df = df.sample(frac=1, random_state=42).reset_index(drop=True)\n",
    "\n",
    "print(f\"\\nDataFrame loaded with {len(df)} movie reviews.\")\n",
    "print(\"First 5 rows of the DataFrame:\")\n",
    "df.head()"
   ]
  },
  {
   "cell_type": "code",
   "execution_count": 16,
   "id": "9bb17cc9",
   "metadata": {},
   "outputs": [
    {
     "name": "stdout",
     "output_type": "stream",
     "text": [
      "\n",
      "Applied preprocessing to 'text' column. New 'processed_text' column added.\n",
      "First 5 rows with processed text:\n"
     ]
    },
    {
     "data": {
      "text/html": [
       "<div>\n",
       "<style scoped>\n",
       "    .dataframe tbody tr th:only-of-type {\n",
       "        vertical-align: middle;\n",
       "    }\n",
       "\n",
       "    .dataframe tbody tr th {\n",
       "        vertical-align: top;\n",
       "    }\n",
       "\n",
       "    .dataframe thead th {\n",
       "        text-align: right;\n",
       "    }\n",
       "</style>\n",
       "<table border=\"1\" class=\"dataframe\">\n",
       "  <thead>\n",
       "    <tr style=\"text-align: right;\">\n",
       "      <th></th>\n",
       "      <th>text</th>\n",
       "      <th>sentiment</th>\n",
       "      <th>processed_text</th>\n",
       "    </tr>\n",
       "  </thead>\n",
       "  <tbody>\n",
       "    <tr>\n",
       "      <th>0</th>\n",
       "      <td>of circumcision , psychic wounds and the famil...</td>\n",
       "      <td>pos</td>\n",
       "      <td>circumcision psychic wound family sitcom open ...</td>\n",
       "    </tr>\n",
       "    <tr>\n",
       "      <th>1</th>\n",
       "      <td>one year has passed since the last time we saw...</td>\n",
       "      <td>pos</td>\n",
       "      <td>one year pass since last time saw wayne campbe...</td>\n",
       "    </tr>\n",
       "    <tr>\n",
       "      <th>2</th>\n",
       "      <td>reading the cast and director for the new mobs...</td>\n",
       "      <td>neg</td>\n",
       "      <td>read cast director new mobster comedy analyze ...</td>\n",
       "    </tr>\n",
       "    <tr>\n",
       "      <th>3</th>\n",
       "      <td>this is a stagy film adapted from roger rueff ...</td>\n",
       "      <td>pos</td>\n",
       "      <td>stagy film adapt roger rueff play hospitality ...</td>\n",
       "    </tr>\n",
       "    <tr>\n",
       "      <th>4</th>\n",
       "      <td>various films seen at the seattle film festiva...</td>\n",
       "      <td>neg</td>\n",
       "      <td>various film see seattle film festival true th...</td>\n",
       "    </tr>\n",
       "  </tbody>\n",
       "</table>\n",
       "</div>"
      ],
      "text/plain": [
       "                                                text sentiment  \\\n",
       "0  of circumcision , psychic wounds and the famil...       pos   \n",
       "1  one year has passed since the last time we saw...       pos   \n",
       "2  reading the cast and director for the new mobs...       neg   \n",
       "3  this is a stagy film adapted from roger rueff ...       pos   \n",
       "4  various films seen at the seattle film festiva...       neg   \n",
       "\n",
       "                                      processed_text  \n",
       "0  circumcision psychic wound family sitcom open ...  \n",
       "1  one year pass since last time saw wayne campbe...  \n",
       "2  read cast director new mobster comedy analyze ...  \n",
       "3  stagy film adapt roger rueff play hospitality ...  \n",
       "4  various film see seattle film festival true th...  "
      ]
     },
     "execution_count": 16,
     "metadata": {},
     "output_type": "execute_result"
    }
   ],
   "source": [
    "# --- 2. Text Preprocessing Function and Application to DataFrame ---\n",
    "stop_words = set(stopwords.words('english'))\n",
    "lemmatizer = WordNetLemmatizer()\n",
    "\n",
    "def preprocess_text(text_string):\n",
    "    \"\"\"\n",
    "    Applies lowercasing, word tokenization, stop word removal, and lemmatization\n",
    "    to a single text string. Returns a list of processed words.\n",
    "    \"\"\"\n",
    "    words = word_tokenize(text_string)\n",
    "    processed_words = []\n",
    "    for word in words:\n",
    "        word = word.lower()\n",
    "        if word.isalpha() and word not in stop_words:\n",
    "            processed_words.append(lemmatizer.lemmatize(word, pos='v'))\n",
    "    return processed_words\n",
    "\n",
    "# Apply preprocessing to the 'text' column\n",
    "df['processed_text'] = df['text'].apply(lambda x: \" \".join(preprocess_text(x)))\n",
    "\n",
    "print(\"\\nApplied preprocessing to 'text' column. New 'processed_text' column added.\")\n",
    "print(\"First 5 rows with processed text:\")\n",
    "df.head()\n"
   ]
  },
  {
   "cell_type": "markdown",
   "id": "e9bf111f",
   "metadata": {},
   "source": [
    "# Chapter 3: Model training"
   ]
  },
  {
   "cell_type": "code",
   "execution_count": 17,
   "id": "e9f32fc4",
   "metadata": {},
   "outputs": [
    {
     "name": "stdout",
     "output_type": "stream",
     "text": [
      "\n",
      "Extracted features using TfidfVectorizer. Shape of features: (2000, 5000)\n",
      "First 5 TF-IDF values for the first document (sparse matrix snippet):\n",
      "[[0.         0.         0.         0.04510235 0.        ]]\n",
      "TF-IDF values are typically floats, reflecting word importance, unlike raw counts.\n"
     ]
    }
   ],
   "source": [
    "from sklearn.feature_extraction.text import TfidfVectorizer # Changed from CountVectorizer\n",
    "\n",
    "# --- 3. Feature Extraction: TF-IDF Vectorizer ---\n",
    "# TF-IDF (Term Frequency-Inverse Document Frequency) is a numerical statistic\n",
    "# that is intended to reflect how important a word is to a document in a corpus.\n",
    "# It's often more effective than simple word counts for text classification.\n",
    "\n",
    "X_text = df['processed_text']\n",
    "y = df['sentiment']\n",
    "\n",
    "# Initialize TfidfVectorizer:\n",
    "# max_features: Limits the number of features (words) to consider.\n",
    "# ngram_range: (1, 2) means it will consider single words (unigrams) and two-word phrases (bigrams).\n",
    "#              Bigrams can capture more context (e.g., \"not good\" is different from \"good\").\n",
    "tfidf_vectorizer = TfidfVectorizer(max_features=5000, ngram_range=(1, 2)) # Increased max_features and added ngram_range\n",
    "X_features = tfidf_vectorizer.fit_transform(X_text)\n",
    "\n",
    "print(f\"\\nExtracted features using TfidfVectorizer. Shape of features: {X_features.shape}\")\n",
    "print(f\"First 5 TF-IDF values for the first document (sparse matrix snippet):\\n{X_features[0].toarray()[:, :5]}\")\n",
    "print(\"TF-IDF values are typically floats, reflecting word importance, unlike raw counts.\")"
   ]
  },
  {
   "cell_type": "code",
   "execution_count": 19,
   "id": "59221067",
   "metadata": {},
   "outputs": [
    {
     "name": "stdout",
     "output_type": "stream",
     "text": [
      "\n",
      "Data split into training and testing sets:\n",
      "X_train shape: (1600, 5000), y_train shape: 1600\n",
      "X_test shape: (400, 5000), y_test shape: 400\n"
     ]
    }
   ],
   "source": [
    "from sklearn.model_selection import train_test_split\n",
    "\n",
    "# --- 4. Splitting Data into Training and Testing Sets ---\n",
    "X_train, X_test, y_train, y_test = train_test_split(\n",
    "    X_features, y, test_size=0.2, random_state=42, stratify=y\n",
    ")\n",
    "\n",
    "print(\"\\nData split into training and testing sets:\")\n",
    "print(f\"X_train shape: {X_train.shape}, y_train shape: {len(y_train)}\")\n",
    "print(f\"X_test shape: {X_test.shape}, y_test shape: {len(y_test)}\")\n"
   ]
  },
  {
   "cell_type": "code",
   "execution_count": 21,
   "id": "389b817e",
   "metadata": {},
   "outputs": [
    {
     "name": "stdout",
     "output_type": "stream",
     "text": [
      "\n",
      "Multinomial Naive Bayes Classifier trained successfully! 🚀\n"
     ]
    }
   ],
   "source": [
    "from sklearn.naive_bayes import MultinomialNB\n",
    "\n",
    "# --- 5. Training the Classifier (Multinomial Naive Bayes) ---\n",
    "classifier = MultinomialNB()\n",
    "classifier.fit(X_train, y_train)\n",
    "\n",
    "print(\"\\nMultinomial Naive Bayes Classifier trained successfully! 🚀\")\n"
   ]
  },
  {
   "cell_type": "code",
   "execution_count": 22,
   "id": "b11fccab",
   "metadata": {},
   "outputs": [
    {
     "name": "stdout",
     "output_type": "stream",
     "text": [
      "\n",
      "--- Performance Metrics ---\n",
      "Accuracy: 0.8075\n",
      "Precision (Positive Class): 0.8122\n",
      "Recall (Positive Class): 0.8000\n",
      "F1-Score (Positive Class): 0.8060\n"
     ]
    }
   ],
   "source": [
    "from sklearn.metrics import accuracy_score, precision_score, recall_score, f1_score\n",
    "\n",
    "# --- 6. Evaluation of the Classifier ---\n",
    "y_pred = classifier.predict(X_test)\n",
    "\n",
    "accuracy = accuracy_score(y_test, y_pred)\n",
    "precision = precision_score(y_test, y_pred, pos_label='pos', zero_division=0)\n",
    "recall = recall_score(y_test, y_pred, pos_label='pos', zero_division=0)\n",
    "f1 = f1_score(y_test, y_pred, pos_label='pos', zero_division=0)\n",
    "\n",
    "print(\"\\n--- Performance Metrics ---\")\n",
    "print(f\"Accuracy: {accuracy:.4f}\")\n",
    "print(f\"Precision (Positive Class): {precision:.4f}\")\n",
    "print(f\"Recall (Positive Class): {recall:.4f}\")\n",
    "print(f\"F1-Score (Positive Class): {f1:.4f}\")"
   ]
  },
  {
   "cell_type": "code",
   "execution_count": 23,
   "id": "2ca16b5d",
   "metadata": {},
   "outputs": [
    {
     "name": "stdout",
     "output_type": "stream",
     "text": [
      "\n",
      "--- Classification Report ---\n",
      "              precision    recall  f1-score   support\n",
      "\n",
      "    Negative       0.80      0.81      0.81       200\n",
      "    Positive       0.81      0.80      0.81       200\n",
      "\n",
      "    accuracy                           0.81       400\n",
      "   macro avg       0.81      0.81      0.81       400\n",
      "weighted avg       0.81      0.81      0.81       400\n",
      "\n"
     ]
    }
   ],
   "source": [
    "from sklearn.metrics import classification_report\n",
    "\n",
    "print(\"\\n--- Classification Report ---\")\n",
    "print(classification_report(y_test, y_pred, target_names=['Negative', 'Positive'], zero_division=0))"
   ]
  },
  {
   "cell_type": "code",
   "execution_count": null,
   "id": "84c1e618",
   "metadata": {},
   "outputs": [
    {
     "data": {
      "image/png": "[encoded data removed]",
      "text/plain": [
       "<Figure size 700x500 with 2 Axes>"
      ]
     },
     "metadata": {},
     "output_type": "display_data"
    },
    {
     "name": "stdout",
     "output_type": "stream",
     "text": [
      "\n",
      "Chapter 3: Sentiment Analysis with TF-IDF complete! ✅\n",
      "This script demonstrates a more refined approach to text classification for sentiment.\n"
     ]
    }
   ],
   "source": [
    "from sklearn.metrics import confusion_matrix\n",
    "import matplotlib.pyplot as plt \n",
    "import seaborn as sns \n",
    "\n",
    "cm = confusion_matrix(y_test, y_pred, labels=['neg', 'pos'])\n",
    "plt.figure(figsize=(7, 5))\n",
    "sns.heatmap(cm, annot=True, fmt='d', cmap='Blues',\n",
    "            xticklabels=['Predicted Negative', 'Predicted Positive'],\n",
    "            yticklabels=['Actual Negative', 'Actual Positive'])\n",
    "plt.title('Confusion Matrix for Sentiment Analysis')\n",
    "plt.ylabel('Actual Label')\n",
    "plt.xlabel('Predicted Label')\n",
    "plt.show()\n",
    "\n",
    "print(\"\\nChapter 3: Sentiment Analysis with TF-IDF complete! ✅\")\n",
    "print(\"This script demonstrates a more refined approach to text classification for sentiment.\")\n"
   ]
  }
 ],
 "metadata": {
  "kernelspec": {
   "display_name": ".venv",
   "language": "python",
   "name": "python3"
  },
  "language_info": {
   "codemirror_mode": {
    "name": "ipython",
    "version": 3
   },
   "file_extension": ".py",
   "mimetype": "text/x-python",
   "name": "python",
   "nbconvert_exporter": "python",
   "pygments_lexer": "ipython3",
   "version": "3.12.1"
  }
 },
 "nbformat": 4,
 "nbformat_minor": 5
}
